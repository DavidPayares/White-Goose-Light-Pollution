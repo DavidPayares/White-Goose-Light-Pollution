{
 "cells": [
  {
   "cell_type": "markdown",
   "metadata": {},
   "source": [
    "### Libraries and Paths"
   ]
  },
  {
   "cell_type": "code",
   "execution_count": 1,
   "metadata": {
    "ExecuteTime": {
     "end_time": "2020-07-23T11:03:04.243319Z",
     "start_time": "2020-07-23T11:02:59.119901Z"
    }
   },
   "outputs": [],
   "source": [
    "import os\n",
    "import arcpy\n",
    "import numpy as np\n",
    "import math\n",
    "import scipy as sp\n",
    "import scipy.stats\n",
    "from matplotlib import pyplot as plt\n",
    "import matplotlib.gridspec as gridspec\n",
    "from datetime import datetime\n",
    "\n",
    "dirPath = os.path.join('D:\\M.Sc. Gesopatial Tecnologies\\Courses\\SIW011 - Python in GIS\\Final Project\\White-Goose-Light-Pollution\\Data')\n",
    "inVector = os.path.join(dirPath , 'Vector','points.shp')\n",
    "biomeVector = os.path.join(dirPath,'Vector','tnc_terr_ecoregions.shp')\n",
    "inRasterFolder = os.path.join(dirPath,'Images')\n",
    "outRasterFolder = os.path.join(dirPath,'Images_Extent')"
   ]
  },
  {
   "cell_type": "markdown",
   "metadata": {},
   "source": [
    "### Clip rasters to goose spatial extent"
   ]
  },
  {
   "cell_type": "code",
   "execution_count": 1,
   "metadata": {},
   "outputs": [
    {
     "name": "stdout",
     "output_type": "stream",
     "text": [
      "3.6740312 51.1431912 87.6671388 73.5753088\n"
     ]
    }
   ],
   "source": [
    "arcpy.env.workspace = inRasterFolder\n",
    "\n",
    "## getting extent and adding 1000m\n",
    "desc = arcpy.Describe(inVector)\n",
    "extent = desc.extent\n",
    "bufferDistance = 0.0001388  ##1000m in degree units\n",
    "extentString = str(extent.XMin - bufferDistance) + ' ' + str(extent.YMin - bufferDistance) + ' ' +  \\\n",
    "                str(extent.XMax + bufferDistance) + ' ' + str(extent.YMax + bufferDistance) \n",
    "###clipping each raster\n",
    "inRasters = arcpy.ListRasters()\n",
    "for raster in inRasters:\n",
    "    rasterDesc =  arcpy.Describe(raster)\n",
    "    rasterName = rasterDesc.name\n",
    "    outRaster = os.path.join(outRasterFolder, rasterName)\n",
    "    \n",
    "    ##delete raster if exits\n",
    "    if arcpy.Exists(outRaster):\n",
    "        arcpy.Delete_management(outRaster)\n",
    "    \n",
    "    ## clip raster\n",
    "    arcpy.Clip_management (raster, extentString, outRaster, \\\n",
    "                     maintain_clipping_extent = 'NO_MAINTAIN_EXTENT')"
   ]
  },
  {
   "cell_type": "markdown",
   "metadata": {},
   "source": [
    "### Calculate initial breeding and speed values"
   ]
  },
  {
   "cell_type": "code",
   "execution_count": 3,
   "metadata": {},
   "outputs": [],
   "source": [
    "def checkBreedingTime(date):\n",
    "    for year in range(2006 , 2010):\n",
    "        breedingStartTime = datetime(year, 5, 24)\n",
    "        breedingEndTime = datetime(year, 6, 7)\n",
    "        if date > breedingStartTime and date < breedingEndTime:\n",
    "            isBreeding = True\n",
    "            break\n",
    "        else:\n",
    "            isBreeding = False\n",
    "    return isBreeding"
   ]
  },
  {
   "cell_type": "code",
   "execution_count": 4,
   "metadata": {},
   "outputs": [],
   "source": [
    "def distanceKm(lat1, lon1, lat2, lon2):\n",
    "    p = math.pi/180\n",
    "    a = 0.5 - math.cos((lat2-lat1)*p)/2 + math.cos(lat1*p) * math.cos(lat2*p) * (1-math.cos((lon2-lon1)*p))/2\n",
    "    distance = 2* 6371 * math.asin(math.sqrt(a))\n",
    "    return distance"
   ]
  },
  {
   "cell_type": "code",
   "execution_count": 5,
   "metadata": {},
   "outputs": [],
   "source": [
    "###classifying breeding season and adding light, speed and date fields\n",
    "listFields = [field.name for field in arcpy.ListFields(inVector)]\n",
    "checkFields = {'isBreed':'SHORT', 'date':'DATE','speed':'DOUBLE', 'NTL_int': 'SHORT'}\n",
    "for field, fieldType in checkFields.items():\n",
    "    if field in listFields:\n",
    "        arcpy.DeleteField_management(inVector, field)\n",
    "    arcpy.AddField_management(inVector, field, fieldType)\n",
    "\n",
    "    \n",
    "fields = ['SHAPE@XY', 'tag_ident', 'timestamp', 'isBreed', 'date', 'speed']\n",
    "\n",
    "with arcpy.da.UpdateCursor(inVector,fields) as cursor:\n",
    "    index = 0\n",
    "    for row in cursor:\n",
    "        \n",
    "        # Get current coordinates, time and goose id information \n",
    "        currentTime = datetime.strptime(row[2], '%Y-%m-%d %H:%M:%S')\n",
    "        lon , lat = row[0]\n",
    "        currentGroup = row[1]\n",
    "        \n",
    "        # Calculate values starting from the second feature for each group - white-fronted goose id -\n",
    "        if index > 0:\n",
    "            if currentGroup == previousGroup:\n",
    "                distance = distanceKm(lat, lon, lat2, lon2)\n",
    "                seconds = abs((currentTime - previousTime).total_seconds())\n",
    "                speed = distance/seconds if seconds > 0 else 0\n",
    "            else:\n",
    "                speed = 0\n",
    "        else:\n",
    "            speed = 0\n",
    "        \n",
    "        ## updating fields\n",
    "        row[3] = 0\n",
    "        row[4] = currentTime.date()\n",
    "        row[5] = speed\n",
    "        \n",
    "        # Set previos information by assigning current information - for next iteration\n",
    "        previousTime = currentTime\n",
    "        previousGroup = currentGroup\n",
    "        lon2 = lon\n",
    "        lat2 = lat\n",
    "        \n",
    "        index = index + 1\n",
    "        cursor.updateRow(row)"
   ]
  },
  {
   "cell_type": "markdown",
   "metadata": {},
   "source": [
    "### Identify breeding points based on time and biome"
   ]
  },
  {
   "cell_type": "code",
   "execution_count": 2,
   "metadata": {},
   "outputs": [],
   "source": [
    "### Identifying breeding biomes\n",
    "arcpy.MakeFeatureLayer_management(biomeVector, 'biome')\n",
    "arcpy.SelectLayerByLocation_management('biome', 'INTERSECT', inVector)\n",
    "arcpy.SelectLayerByAttribute_management('biome', 'SUBSET_SELECTION', \" ECO_NAME LIKE '%Tundra%' \")\n",
    "arcpy.CopyFeatures_management('biome', os.path.join(dirPath, 'tundra_breed.shp'))\n",
    "\n",
    "tundraVector  = os.path.join(dirPath,'Vector','tundra_breed.shp')"
   ]
  },
  {
   "cell_type": "code",
   "execution_count": 6,
   "metadata": {},
   "outputs": [],
   "source": [
    "## identify breeding points based on time and location\n",
    "with arcpy.da.UpdateCursor(inVector,['SHAPE@XY','timestamp','isBreed']) as cursor:\n",
    "    for row in cursor:\n",
    "        x,y = row[0]\n",
    "        time = datetime.strptime(row[1], '%Y-%m-%d %H:%M:%S')\n",
    "        cursorShp = arcpy.SearchCursor(tundraVector)\n",
    "        for rowid in cursorShp:\n",
    "            poly = rowid.Shape\n",
    "            if poly.contains(arcpy.Point(x,y)) and checkBreedingTime(time):\n",
    "                row[2] = 1\n",
    "        cursor.updateRow(row)"
   ]
  },
  {
   "cell_type": "code",
   "execution_count": 46,
   "metadata": {},
   "outputs": [
    {
     "name": "stdout",
     "output_type": "stream",
     "text": [
      "Breeding points:  436\n",
      "Non Breeding points:  6927\n"
     ]
    }
   ],
   "source": [
    "inVectorArray = arcpy.da.FeatureClassToNumPyArray(inVector, ('isBreed'))\n",
    "breedingCount = (inVectorArray['isBreed'] == 1).sum()\n",
    "nonBreedingCount = (inVectorArray['isBreed'] == 0).sum()\n",
    "\n",
    "print('Breeding points: ', breedingCount)\n",
    "print('Non Breeding points: ', nonBreedingCount)"
   ]
  },
  {
   "cell_type": "markdown",
   "metadata": {},
   "source": [
    "### Breeding points density"
   ]
  },
  {
   "cell_type": "code",
   "execution_count": null,
   "metadata": {},
   "outputs": [],
   "source": [
    "# set workspace\n",
    "wd = os.getcwd()\n",
    "arcpy.env.workspace = \"C:/Users/User/Desktop/MAIN_MUNSTER/White-Goose-Light-Pollution-master/Data/Vector\"\n",
    "\n",
    "#check out extension\n",
    "if arcpy.CheckExtension('Spatial') == 'Available':\n",
    "    arcpy.CheckOutExtension('Spatial')\n",
    "else:\n",
    "    print('Required extension not available')\n",
    "    \n",
    "# Define output location and check existence\n",
    "out_fn = os.path.join(wd, 'point_density')\n",
    "if arcpy.Exists(out_fn):\n",
    "    arcpy.Delete_Management(out_fn)\n",
    "\n",
    "# run the point density tool\n",
    "out_ras = arcpy.sa.PointDensity('points.shp', None, 100)\n",
    "out_ras.save(out_fn)\n",
    "\n",
    "#check in extension to give it back\n",
    "arcpy.CheckInExtension('Spatial')\n",
    "\n",
    "print('Done')"
   ]
  },
  {
   "cell_type": "markdown",
   "metadata": {},
   "source": [
    "### Hotspots and Density of breeding points"
   ]
  },
  {
   "cell_type": "code",
   "execution_count": null,
   "metadata": {},
   "outputs": [],
   "source": [
    "#create workspace \n",
    "arcpy.env.workspace = \"C:/Users/User/Desktop/MAIN_MUNSTER/Python/DATA FOR PROJECT/movebank/movebank/Real_work\"\n",
    "print(arcpy.env.workspace)\n",
    "\n",
    "#set local variables \n",
    "in_features = \"Point_findHotspots\"\n",
    "out_featuresclass = \"Got_Hotspot.shp\"\n",
    "out_location = os.getcwd()\n",
    "# export findhotspot to shapefile \n",
    "arcpy.FeatureClassToFeatureClass_conversion(in_features, out_location, out_featuresclass)"
   ]
  },
  {
   "cell_type": "code",
   "execution_count": null,
   "metadata": {},
   "outputs": [],
   "source": [
    "\n",
    "#create workspace \n",
    "wd = os.getcwd()\n",
    "arcpy.env.workspace = \"C:/Users/User/Documents/ArcGIS/Projects\"\n",
    "\n",
    "#set local variables \n",
    "input_table = \"Got_Hotspot.shp\" \n",
    "field_name = \"hotspot1\"\n",
    "expression = \"getlabel(!Gi_Bin!)\"\n",
    "\n",
    "codeblock = \"\"\"\n",
    "def getlabel(x): \n",
    "    if x == 0:\n",
    "        return 0\n",
    "    if x == 2 or x == 3:\n",
    "        return 1\"\"\"\n",
    "            \n",
    "# Execute AddField\n",
    "arcpy.AddField_management(input_table, field_name, \"TEXT\")\n",
    "\n",
    "# Execute calculate field \n",
    "arcpy.CalculateField_management(input_table, field_name, expression, \"PYTHON3\", codeblock)"
   ]
  },
  {
   "cell_type": "code",
   "execution_count": null,
   "metadata": {},
   "outputs": [],
   "source": [
    "# select attributes by layer where hotspots equals 2 or 3\n",
    "input_table = \"Got_Hotspot.shp\"\n",
    "out_featureclass = \"Output_feature.shp\"\n",
    "\n",
    "select_layer = arcpy.SelectLayerByAttribute_management(input_table, \"SUBSET_SELECTION\", '\"Gi_Bin\" > 1')\n",
    "\n",
    "arcpy.CopyFeatures_management(select_layer, out_featureclass)"
   ]
  },
  {
   "cell_type": "markdown",
   "metadata": {},
   "source": [
    "### Hotspots in breeding poins and light pollution areas"
   ]
  },
  {
   "cell_type": "code",
   "execution_count": null,
   "metadata": {},
   "outputs": [],
   "source": [
    "# set local variables \n",
    "input_table = \"Output_feature.shp\"\n",
    "near_features = \"class_2008\"\n",
    "\n",
    "# find features within seach radius\n",
    "search_radius = \"20000 Meters\"\n",
    "#location nearest features \n",
    "location = \"LOCATION\"\n",
    "\n",
    "angle = \"NO_ANGLE\"\n",
    "# execute the function \n",
    "arcpy.Near_analysis(in_features, near_features, search_radius, location, angle)"
   ]
  },
  {
   "cell_type": "code",
   "execution_count": null,
   "metadata": {},
   "outputs": [],
   "source": [
    "# set local variables \n",
    "input_table = \"Output_feature.shp\"\n",
    "near_features = \"class_2008\"\n",
    "\n",
    "# find features within seach radius\n",
    "search_radius = \"20000 Meters\"\n",
    "#location nearest features \n",
    "location = \"LOCATION\"\n",
    "\n",
    "angle = \"NO_ANGLE\"\n",
    "# execute the function \n",
    "arcpy.Near_analysis(in_features, near_features, search_radius, location, angle)"
   ]
  },
  {
   "cell_type": "code",
   "execution_count": null,
   "metadata": {},
   "outputs": [],
   "source": [
    "# Distance and other proximity information to the tundra for 2007\n",
    "# set local variables \n",
    "input_table = \"Output_feature.shp\"\n",
    "near_features = \"class_2007\"\n",
    "out_table = \"pollutants_tundra2\"\n",
    "\n",
    "\n",
    "#set other parameters \n",
    "search_radius = \"20000 Meters\"\n",
    "location = \"LOCATION\"\n",
    "angle = \"NO_ANGLE\"\n",
    "closest = \"ALL\"\n",
    "\n",
    "#find the closeness between the features within the radius \n",
    "arcpy.GenerateNearTable_analysis(input_table, near_features, out_table, search_radius, location, angle, closest)\n"
   ]
  },
  {
   "cell_type": "code",
   "execution_count": null,
   "metadata": {},
   "outputs": [],
   "source": [
    "# Distance and other proximity information to the pollutants for 2008\n",
    "# set local variables \n",
    "input_table = \"Output_feature.shp\"\n",
    "near_features = \"class_2008\"\n",
    "out_table = \"pollutants_tundra1\"\n",
    "\n",
    "\n",
    "#set other parameters \n",
    "search_radius = \"20000 Meters\"\n",
    "location = \"LOCATION\"\n",
    "angle = \"NO_ANGLE\"\n",
    "closest = \"ALL\"\n",
    "\n",
    "#find the closeness between the features within the radius \n",
    "arcpy.GenerateNearTable_analysis(input_table, near_features, out_table, search_radius, location, angle, closest)"
   ]
  },
  {
   "cell_type": "markdown",
   "metadata": {},
   "source": [
    "### Calculate Light Values"
   ]
  },
  {
   "cell_type": "code",
   "execution_count": 32,
   "metadata": {},
   "outputs": [],
   "source": [
    "def getRasterYear(rasters, year):\n",
    "    for raster in rasters:\n",
    "        rasterDesc =  arcpy.Describe(raster)\n",
    "        if str(year) in rasterDesc.name:\n",
    "            rasterYear = raster\n",
    "    return rasterYear"
   ]
  },
  {
   "cell_type": "code",
   "execution_count": 42,
   "metadata": {},
   "outputs": [],
   "source": [
    "##calculating light values at goose locations based on year.\n",
    "arcpy.env.workspace = outRasterFolder\n",
    "lightRasters = arcpy.ListRasters()[0:2] \n",
    "\n",
    "for year in range(2007,2009):\n",
    "    raster = getRasterYear(lightRasters, year)\n",
    "    with arcpy.da.UpdateCursor(inVector,['SHAPE@XY','date','NTL_int']) as cursor:\n",
    "        for row in cursor:\n",
    "            if row[1].year == year:\n",
    "                x, y = row[0]\n",
    "                coords = str(x) + \" \" + str(y)\n",
    "                row[2] = float(arcpy.GetCellValue_management(raster, coords)[0])\n",
    "            cursor.updateRow(row)"
   ]
  },
  {
   "cell_type": "code",
   "execution_count": 7,
   "metadata": {
    "ExecuteTime": {
     "end_time": "2020-07-23T15:47:50.976159Z",
     "start_time": "2020-07-23T11:04:10.478575Z"
    }
   },
   "outputs": [
    {
     "name": "stdout",
     "output_type": "stream",
     "text": [
      "{'mean': 4.013986013986014, 'median': 4.0, 'var': 0.034769426377817984, 'std:': 0.18646561714648088}\n",
      "{'mean': 3.6933333333333334, 'median': 3.0, 'var': 3.0126222222222223, 'std:': 1.7356907046539778}\n"
     ]
    }
   ],
   "source": [
    "inVectorArray = arcpy.da.FeatureClassToNumPyArray(inVector, ('date','isBreed','NTL_int'))\n",
    "\n",
    "breedStats = {}\n",
    "f, axarr = plt.subplots(1, 2, figsize=(3,5))\n",
    "\n",
    "for year in range(2007,2009):\n",
    "    breedingLight = inVectorArray[(inVectorArray['date'] > datetime(year,1,1)) & \\\n",
    "                                  (inVectorArray['date'] < datetime(year,12,31)) & \\\n",
    "                                  (inVectorArray['isBreed'] == 1)]['NTL_int']\n",
    "    \n",
    "    stats = {'mean': np.mean(breedingLight), 'median': np.median(breedingLight), \\\n",
    "             'var': np.var(breedingLight), 'std:': np.std(breedingLight)}\n",
    "    breedStats[year] = stats\n",
    "    \n",
    "    axarr[year-2007].hist(breedingLight, color = 'gray')\n",
    "    axarr[year-2007].set_title(str(year))\n",
    "\n",
    "    \n",
    "\n",
    "print(breedStats[2007])\n",
    "print(breedStats[2008])\n",
    "plt.show()"
   ]
  },
  {
   "cell_type": "code",
   "execution_count": 40,
   "metadata": {},
   "outputs": [],
   "source": [
    "inVectorArray = arcpy.da.FeatureClassToNumPyArray(inVector, ('date','isBreed','NTL_int'))"
   ]
  },
  {
   "cell_type": "code",
   "execution_count": 41,
   "metadata": {},
   "outputs": [],
   "source": [
    "breedingLight = inVectorArray[(inVectorArray['date'] > datetime(2007,1,1)) & \\\n",
    "                                  (inVectorArray['date'] < datetime(2008,12,31)) & \\\n",
    "                                  (inVectorArray['isBreed'] == 1)]['NTL_int']"
   ]
  },
  {
   "cell_type": "code",
   "execution_count": 43,
   "metadata": {},
   "outputs": [
    {
     "data": {
      "text/plain": [
       "{'mean': 3.903669724770642, 'median': 4.0, 'var': 1.0824635973402914, 'std:': 1.0404151081853297}"
      ]
     },
     "execution_count": 43,
     "metadata": {},
     "output_type": "execute_result"
    }
   ],
   "source": [
    "stats = {'mean': np.mean(breedingLight), 'median': np.median(breedingLight), \\\n",
    "             'var': np.var(breedingLight), 'std:': np.std(breedingLight)}\n",
    "stats"
   ]
  },
  {
   "cell_type": "markdown",
   "metadata": {},
   "source": [
    "### Extract high light pollution places"
   ]
  },
  {
   "cell_type": "code",
   "execution_count": 34,
   "metadata": {},
   "outputs": [
    {
     "data": {
      "text/plain": [
       "'CheckedOut'"
      ]
     },
     "execution_count": 34,
     "metadata": {},
     "output_type": "execute_result"
    }
   ],
   "source": [
    "import arcpy\n",
    "from arcpy.sa import *\n",
    "arcpy.CheckOutExtension('Spatial')"
   ]
  },
  {
   "cell_type": "code",
   "execution_count": 36,
   "metadata": {},
   "outputs": [
    {
     "name": "stdout",
     "output_type": "stream",
     "text": [
      "Done:  F162008.v4b_web.avg_vis.tif\n"
     ]
    }
   ],
   "source": [
    "arcpy.env.workspace = outRasterFolder\n",
    "lightRasters = arcpy.ListRasters()\n",
    "\n",
    "for year in range(2008,2009):\n",
    "    raster = getRasterYear(lightRasters, year)\n",
    "    inRaster = arcpy.Raster(raster)\n",
    "    outCon = Con((inRaster > 30) & (inRaster < 64), 1)\n",
    "    outPolygons = os.path.join(dirPath, 'Vector', 'class_' + str(year) + '.shp')\n",
    "    highPolution = arcpy.RasterToPolygon_conversion(outCon, outPolygons, \"NO_SIMPLIFY\", 'VALUE')\n",
    "    outTable = os.path.join(dirPath, 'Tables', 'table_light_' + str(year) + '.dbf')\n",
    "    ZonalStatisticsAsTable(highPolution, 'Id', raster, outTable, 'NODATA', 'MEAN')\n",
    "    print('Done: ', inRaster)"
   ]
  },
  {
   "cell_type": "markdown",
   "metadata": {},
   "source": [
    "### Relative differences in distances and light pollution growth"
   ]
  },
  {
   "cell_type": "code",
   "execution_count": 45,
   "metadata": {},
   "outputs": [],
   "source": [
    "def getClassYear(layers, year):\n",
    "    for layer in layers:\n",
    "        if str(year) in layer:\n",
    "            layerYear = layer\n",
    "    return layerYear"
   ]
  },
  {
   "cell_type": "code",
   "execution_count": 47,
   "metadata": {},
   "outputs": [
    {
     "data": {
      "text/plain": [
       "{2007: {'area': 21.767360936972278, 'count': 2874, 'dist': 128399.85305297648}, 2008: {'area': 21.33763871818779, 'count': 2939, 'dist': 63858.33692071379}}"
      ]
     },
     "execution_count": 47,
     "metadata": {},
     "output_type": "execute_result"
    }
   ],
   "source": [
    "##near analysis\n",
    "arcpy.env.workspace = os.path.join(dirPath, 'Vector')\n",
    "classLayers = arcpy.ListFeatureClasses('*class*')\n",
    "difDict = {}\n",
    "\n",
    "for year in range(2007,2009):\n",
    "    layer = getClassYear(classLayers, year)\n",
    "    condition = \"date > timestamp '{}-12-31' And date < timestamp '{}-01-01'\".format(str(year-1),str(year+1))\n",
    "    selection = arcpy.SelectLayerByAttribute_management(inVector, selection_type=\"NEW_SELECTION\", where_clause=condition, invert_where_clause=\"\")\n",
    "    outPath = os.path.join(dirPath , 'Vector', 'points_' + str(year))\n",
    "    outLayer = arcpy.CopyFeatures_management(selection, outPath)\n",
    "    outTable = os.path.join(dirPath, 'Tables', 'table_Dist_' + str(year) + '.dbf')\n",
    "    arcpy.analysis.Near(outLayer, layer, method='Geodesic')\n",
    "    arcpy.Statistics_analysis(outLayer, outTable, [[\"NEAR_DIST\",\"MIN\"]], [\"NEAR_FID\",\"isBreed\"])\n",
    "    \n",
    "    area = sum([r[0] for r in arcpy.da.SearchCursor(layer, (\"SHAPE@AREA\")) if not r[0] is None])\n",
    "    count = len([r[0] for r in arcpy.da.SearchCursor(layer, (\"SHAPE@AREA\")) if not r[0] is None])\n",
    "    dist = np.mean([r[0] for r in arcpy.da.SearchCursor(outLayer, (\"NEAR_DIST\")) if not r[0] is None])\n",
    "    difDict[year] = {'area': area, 'count': count,'dist': dist}\n",
    "\n",
    "difDict"
   ]
  },
  {
   "cell_type": "code",
   "execution_count": 13,
   "metadata": {
    "ExecuteTime": {
     "end_time": "2020-07-23T15:48:28.297172Z",
     "start_time": "2020-07-23T15:48:19.822024Z"
    }
   },
   "outputs": [],
   "source": [
    "arcpy.env.workspace = os.path.join(dirPath, 'Tables')\n",
    "lightTables = arcpy.ListTables('*light*')\n",
    "distTables = arcpy.ListTables('*Dist*')\n",
    "\n",
    "index = 0\n",
    "for light, dist in zip(lightTables,distTables):\n",
    "    table = arcpy.JoinField_management(dist, \"NEAR_FID\", light, \"Id\", [\"MEAN\"])\n",
    "    tableArray = arcpy.da.FeatureClassToNumPyArray(table, ('MIN_NEAR_D','MEAN', 'isBreed'))\n",
    "    if index == 0:\n",
    "        tableLight = tableArray\n",
    "        index = index + 1\n",
    "    else:\n",
    "        tableLight = np.concatenate((tableLight, tableArray) , axis = 0)"
   ]
  },
  {
   "cell_type": "code",
   "execution_count": 54,
   "metadata": {
    "ExecuteTime": {
     "end_time": "2020-07-23T17:47:47.252916Z",
     "start_time": "2020-07-23T16:25:24.730914Z"
    }
   },
   "outputs": [],
   "source": [
    "fig, axs = plt.subplots(1,2)\n",
    "\n",
    "\n",
    "breeding = [0,1]\n",
    "for breed in breeding:\n",
    "    tbl = tableLight[tableLight['isBreed'] == breed]\n",
    "    cor , p = scipy.stats.pearsonr(tbl['MIN_NEAR_D'], tbl['MEAN'])\n",
    "    label = r'$\\rho$:' + str(round(cor,2))\n",
    "    axs[breed].scatter(tbl['MIN_NEAR_D'], tbl['MEAN'], alpha=0.8, c= 'gray', edgecolors='none', s=30, label=label)\n",
    "    m, b = np.polyfit(tbl['MIN_NEAR_D'], tbl['MEAN'], 1)\n",
    "    axs[breed].plot(tbl['MIN_NEAR_D'], m * tbl['MIN_NEAR_D'] + b , c = 'black')\n",
    "    axs[breed].legend(loc=1)\n",
    "    axs[0].set_title('non-breeding')\n",
    "    axs[1].set_title('Breeding')\n",
    "    \n",
    "fig.suptitle('Mean Light Value vs Min distance')\n",
    "plt.show()"
   ]
  },
  {
   "cell_type": "markdown",
   "metadata": {},
   "source": [
    "### Relative differences in distances and ligh pollution intensity"
   ]
  },
  {
   "cell_type": "code",
   "execution_count": 25,
   "metadata": {
    "ExecuteTime": {
     "end_time": "2020-07-23T15:51:47.149236Z",
     "start_time": "2020-07-23T15:51:47.30066Z"
    }
   },
   "outputs": [],
   "source": [
    "arcpy.env.workspace = os.path.join(dirPath, 'Vector')\n",
    "pointLayers = arcpy.ListFeatureClasses('*points_*')\n",
    "\n",
    "index = 0\n",
    "for layer in pointLayers:\n",
    "    pointArray = arcpy.da.FeatureClassToNumPyArray(layer, ('NTL_int','NEAR_DIST','isBreed'))\n",
    "    if index == 0:\n",
    "        tableArray = pointArray\n",
    "        index = index + 1\n",
    "    else:\n",
    "        tableArray = np.concatenate((tableArray, pointArray), axis = 0)"
   ]
  },
  {
   "cell_type": "code",
   "execution_count": 53,
   "metadata": {
    "ExecuteTime": {
     "end_time": "2020-07-23T16:25:24.730424Z",
     "start_time": "2020-07-23T16:04:16.132450Z"
    }
   },
   "outputs": [
    {
     "name": "stdout",
     "output_type": "stream",
     "text": [
      "{'min': 0.0, 'mean': 105087.51624876991, 'max:': 461343.123834, 'median': 55475.0824789, 'std:': 116081.61220253869} \n",
      " -0.24623900322044084\n",
      "{'min': 3696.97283464, 'mean': 112416.36667117193, 'max:': 272559.769718, 'median': 59019.61344605, 'std:': 88548.80222212282} \n",
      " -0.30455007680256\n"
     ]
    }
   ],
   "source": [
    "fig, axs = plt.subplots(nrows=1, ncols=2, figsize=(9, 4))\n",
    "for breed in breeding:\n",
    "    tableBreed = tableArray[tableArray['isBreed'] == breed]\n",
    "    breedingDistance = tableBreed[tableBreed['isBreed'] == breed]['NEAR_DIST']\n",
    "    statsDist = {'min': np.min(breedingDistance),'mean': np.mean(breedingDistance), \\\n",
    "                 'max:': np.max(breedingDistance),'median': np.median(breedingDistance), \\\n",
    "                 'std:': np.std(breedingDistance)}\n",
    "    corrCoef, p = scipy.stats.pearsonr(tableBreed['NEAR_DIST'],tableBreed['NTL_int'])\n",
    "    violin = axs[0].violinplot(breedingDistance, positions = [breed],showmeans=False, showmedians=True)\n",
    "    axs[0].set_title('Violin plot')\n",
    "    axs[1].boxplot(breedingDistance, positions = [breed], medianprops= dict(color = 'black'))\n",
    "    axs[1].set_title('Box plot')\n",
    "    \n",
    "    for pc in violin['bodies']:\n",
    "        pc.set_facecolor('gray')\n",
    "        pc.set_edgecolor('black')\n",
    "        \n",
    "    for partname in ('cbars','cmins','cmaxes','cmedians'):\n",
    "        vp = violin[partname]\n",
    "        vp.set_edgecolor('black')\n",
    "        \n",
    "    print(statsDist, '\\n', corrCoef)\n",
    "    \n",
    "index = 0\n",
    "for ax in axs:\n",
    "    ax.yaxis.grid(True)\n",
    "    ax.set_xticks([0,1])\n",
    "    if index == 0:\n",
    "        ax.set_ylabel('Distances to light pollutant')  \n",
    "        index = index + 1\n",
    "        \n",
    "        \n",
    "\n",
    "\n",
    "plt.setp(axs, xticks=[0,1],\n",
    "         xticklabels=['non-breeding', 'breeding'])\n",
    "plt.show()"
   ]
  },
  {
   "cell_type": "markdown",
   "metadata": {},
   "source": [
    "### Tundra and Light"
   ]
  },
  {
   "cell_type": "code",
   "execution_count": 53,
   "metadata": {},
   "outputs": [],
   "source": [
    "def intersection(lst1, lst2): \n",
    "    intersecList = [value for value in lst1 if value in lst2] \n",
    "    return intersecList"
   ]
  },
  {
   "cell_type": "code",
   "execution_count": 57,
   "metadata": {},
   "outputs": [
    {
     "name": "stdout",
     "output_type": "stream",
     "text": [
      "2007:  131\n",
      "2008:  130\n"
     ]
    }
   ],
   "source": [
    "arcpy.env.workspace = os.path.join(dirPath, 'Vector')\n",
    "classLayers = arcpy.ListFeatureClasses('*class*')\n",
    "\n",
    "arcpy.MakeFeatureLayer_management(biomeVector, 'biome')\n",
    "arcpy.SelectLayerByAttribute_management('biome', 'NEW_SELECTION', \" ECO_NAME LIKE '%undra%' \")\n",
    "\n",
    "lightCodes = {}\n",
    "for layer in classLayers:\n",
    "    selection = arcpy.SelectLayerByLocation_management(layer, 'INTERSECT', 'biome')\n",
    "    selecTable = arcpy.da.FeatureClassToNumPyArray(selection, ('Id'))\n",
    "    lightCodes[layer[6:-4]] = selecTable['Id'].tolist()\n",
    "\n",
    "print('2007: ', len(lightCodes['2007']))\n",
    "print('2008: ', len(lightCodes['2008']))    "
   ]
  },
  {
   "cell_type": "code",
   "execution_count": 58,
   "metadata": {},
   "outputs": [
    {
     "name": "stdout",
     "output_type": "stream",
     "text": [
      "2007:  8\n",
      "2008:  9\n"
     ]
    }
   ],
   "source": [
    "arcpy.env.workspace = os.path.join(dirPath, 'Tables')\n",
    "distTables = arcpy.ListTables('*Dist*')\n",
    "\n",
    "nearCodes = {}\n",
    "for table in distTables:\n",
    "    tableBreed = arcpy.da.FeatureClassToNumPyArray(table, ('NEAR_FID','isBreed'))\n",
    "    nearTable = tableBreed[tableBreed['isBreed'] == 1]\n",
    "    nearCodes[table[11:-4]] = nearTable['NEAR_FID'].tolist()\n",
    "    \n",
    "print('2007: ', len(nearCodes['2007']))\n",
    "print('2008: ', len(nearCodes['2008']))    "
   ]
  },
  {
   "cell_type": "code",
   "execution_count": 61,
   "metadata": {},
   "outputs": [
    {
     "name": "stdout",
     "output_type": "stream",
     "text": [
      "2007 [101, 115]\n",
      "2008 [43, 89, 150, 193, 242]\n"
     ]
    }
   ],
   "source": [
    "for year in range(2007,2009):\n",
    "    intersect = intersection(lightCodes[str(year)], nearCodes[str(year)])\n",
    "    print(year, intersect)"
   ]
  }
 ],
 "metadata": {
  "kernelspec": {
   "display_name": "ArcGISPro",
   "language": "Python",
   "name": "python3"
  },
  "language_info": {
   "file_extension": ".py",
   "name": "python",
   "version": "3"
  }
 },
 "nbformat": 4,
 "nbformat_minor": 2
}
