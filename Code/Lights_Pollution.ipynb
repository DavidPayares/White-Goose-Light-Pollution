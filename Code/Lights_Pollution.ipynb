{
 "cells": [
  {
   "cell_type": "code",
   "execution_count": 63,
   "metadata": {},
   "outputs": [
    {
     "name": "stdout",
     "output_type": "stream",
     "text": [
      "3.6740312 51.1431912 87.6671388 73.5753088\n"
     ]
    }
   ],
   "source": [
    "import os\n",
    "import arcpy\n",
    "import numpy as np\n",
    "import math\n",
    "from datetime import datetime\n",
    "\n",
    "\n",
    "dirPath = os.path.join('D:\\M.Sc. Gesopatial Tecnologies\\Courses\\SIW011 - Python in GIS\\Final Project\\White-Goose-Light-Pollution\\Data')\n",
    "inVector = os.path.join(dirPath , 'Vector','points.shp')\n",
    "biomeVector = os.path.join(dirPath,'Vector','tnc_terr_ecoregions.shp')\n",
    "inRasterFolder = os.path.join(dirPath,'Images')\n",
    "outRasterFolder = os.path.join(dirPath,'Images_Extent')\n",
    "\n",
    "arcpy.env.workspace = inRasterFolder\n",
    "\n",
    "## getting extent and adding 1000m\n",
    "desc = arcpy.Describe(inVector)\n",
    "extent = desc.extent\n",
    "bufferDistance = 0.0001388  ##1000m in degree units\n",
    "extentString = str(extent.XMin - bufferDistance) + ' ' + str(extent.YMin - bufferDistance) + ' ' +  \\\n",
    "                str(extent.XMax + bufferDistance) + ' ' + str(extent.YMax + bufferDistance) \n",
    "print(extentString)\n",
    "\n",
    "\n",
    "###clipping each raster\n",
    "inRasters = arcpy.ListRasters()\n",
    "for raster in inRasters:\n",
    "    rasterDesc =  arcpy.Describe(raster)\n",
    "    rasterName = rasterDesc.name\n",
    "    outRaster = os.path.join(outRasterFolder, rasterName)\n",
    "    \n",
    "    ##delete raster if exits\n",
    "    if arcpy.Exists(outRaster):\n",
    "        arcpy.Delete_management(outRaster)\n",
    "    \n",
    "    ## clip raster\n",
    "    arcpy.Clip_management (raster, extentString, outRaster, \\\n",
    "                     maintain_clipping_extent = 'NO_MAINTAIN_EXTENT')"
   ]
  },
  {
   "cell_type": "code",
   "execution_count": 64,
   "metadata": {},
   "outputs": [
    {
     "data": {
      "text/plain": [
       "<Result 'D:\\\\M.Sc. Gesopatial Tecnologies\\\\Courses\\\\SIW011 - Python in GIS\\\\Final Project\\\\White-Goose-Light-Pollution\\\\Data\\\\tundra_breed.shp'>"
      ]
     },
     "execution_count": 64,
     "metadata": {},
     "output_type": "execute_result"
    }
   ],
   "source": [
    "### Identifying breeding biomes\n",
    "arcpy.MakeFeatureLayer_management(biomeVector, 'biome')\n",
    "arcpy.SelectLayerByLocation_management('biome', 'INTERSECT', inVector)\n",
    "arcpy.SelectLayerByAttribute_management('biome', 'SUBSET_SELECTION', \" ECO_NAME LIKE '%Tundra%' \")\n",
    "arcpy.CopyFeatures_management('biome', os.path.join(dirPath, 'tundra_breed.shp'))"
   ]
  },
  {
   "cell_type": "code",
   "execution_count": 6,
   "metadata": {},
   "outputs": [],
   "source": [
    "def checkBreedingTime(date):\n",
    "    for year in range(2006 , 2010):\n",
    "        breedingStartTime = datetime(year, 5, 24)\n",
    "        breedingEndTime = datetime(year, 6, 7)\n",
    "        if date > breedingStartTime and date < breedingEndTime:\n",
    "            isBreeding = 1\n",
    "            break\n",
    "        else:\n",
    "            isBreeding = 0\n",
    "    return isBreeding"
   ]
  },
  {
   "cell_type": "code",
   "execution_count": 69,
   "metadata": {},
   "outputs": [],
   "source": [
    "def distanceKm(lat1, lon1, lat2, lon2):\n",
    "    p = math.pi/180\n",
    "    a = 0.5 - math.cos((lat2-lat1)*p)/2 + math.cos(lat1*p) * math.cos(lat2*p) * (1-math.cos((lon2-lon1)*p))/2\n",
    "    distance = 2* 6371 * math.asin(math.sqrt(a))\n",
    "    return distance"
   ]
  },
  {
   "cell_type": "code",
   "execution_count": 80,
   "metadata": {},
   "outputs": [
    {
     "name": "stdout",
     "output_type": "stream",
     "text": [
      "8.680626354373915\n"
     ]
    }
   ],
   "source": [
    "lat = 5.89583 \n",
    "lon = 52.92667\n",
    "lat2 = 5.91883\n",
    "lon2 = 53.00167\n",
    "\n",
    "dist = distanceKm(lat,lon,lat2,lon2)\n",
    "print(dist)"
   ]
  },
  {
   "cell_type": "code",
   "execution_count": 84,
   "metadata": {},
   "outputs": [],
   "source": [
    "###classifying breeding season and adding time and date fields\n",
    "listFields = [field.name for field in arcpy.ListFields(inVector)]\n",
    "checkFields = {'isBreed':'SHORT', 'date':'DATE','speed':'DOUBLE'}\n",
    "for field, fieldType in checkFields.items():\n",
    "    if field in listFields:\n",
    "        arcpy.DeleteField_management(inVector, field)\n",
    "    arcpy.AddField_management(inVector, field, fieldType)\n",
    "\n",
    "    \n",
    "fields = ['SHAPE@XY', 'tag_ident', 'timestamp', 'isBreed', 'date', 'speed']\n",
    "\n",
    "with arcpy.da.UpdateCursor(inVector,fields) as cursor:\n",
    "    index = 0\n",
    "    for row in cursor:\n",
    "        \n",
    "        time = datetime.strptime(row[2], '%Y-%m-%d %H:%M:%S')\n",
    "        row[3] = checkBreedingTime(time)\n",
    "        row[4] = time.date()\n",
    "        \n",
    "        lon , lat = row[0]\n",
    "        currentTime = time\n",
    "        currentGroup = row[1]\n",
    "        \n",
    "        if index > 0:\n",
    "            if currentGroup == previousGroup:\n",
    "                distance = distanceKm(lat, lon, lat2, lon2)\n",
    "                seconds = abs((currentTime - previousTime).total_seconds())\n",
    "                speed = distance/seconds if seconds > 0 else 0\n",
    "            else:\n",
    "                distance = 0\n",
    "        else:\n",
    "            distance = 0\n",
    "        \n",
    "        row[5] = distance\n",
    "        \n",
    "        previousTime = time\n",
    "        previousGroup = currentGroup\n",
    "        lon2 = lon\n",
    "        lat2 = lat\n",
    "        \n",
    "        index = index + 1\n",
    "        cursor.updateRow(row)"
   ]
  },
  {
   "cell_type": "code",
   "execution_count": 85,
   "metadata": {},
   "outputs": [
    {
     "name": "stdout",
     "output_type": "stream",
     "text": [
      "Breeding points:  521\n",
      "Non Breeding points:  6842\n"
     ]
    }
   ],
   "source": [
    "inVectorArray = arcpy.da.FeatureClassToNumPyArray(inVector, ('isBreed'))\n",
    "breedingCount = (inVectorArray['isBreed'] == 1).sum()\n",
    "nonBreedingCount = (inVectorArray['isBreed'] == 0).sum()\n",
    "print('Breeding points: ', breedingCount)\n",
    "print('Non Breeding points: ', nonBreedingCount)"
   ]
  }
 ],
 "metadata": {
  "kernelspec": {
   "display_name": "ArcGISPro",
   "language": "Python",
   "name": "python3"
  },
  "language_info": {
   "file_extension": ".py",
   "name": "python",
   "version": "3"
  }
 },
 "nbformat": 4,
 "nbformat_minor": 2
}
