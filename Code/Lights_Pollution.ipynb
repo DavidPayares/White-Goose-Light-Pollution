{
 "cells": [
  {
   "cell_type": "code",
   "execution_count": 41,
   "metadata": {},
   "outputs": [
    {
     "name": "stdout",
     "output_type": "stream",
     "text": [
      "3.6740312 51.1431912 87.6671388 73.5753088\n"
     ]
    }
   ],
   "source": [
    "import os\n",
    "import arcpy\n",
    "import numpy as np\n",
    "from datetime import datetime\n",
    "\n",
    "inVector = os.path.join('D:\\M.Sc. Gesopatial Tecnologies\\Courses\\SIW011 - Python in GIS\\Final Project\\Data\\Vector\\points.shp')\n",
    "inRasterFolder = os.path.join('D:\\M.Sc. Gesopatial Tecnologies\\Courses\\SIW011 - Python in GIS\\Final Project\\Data\\Images')\n",
    "outRasterFolder = os.path.join('D:\\M.Sc. Gesopatial Tecnologies\\Courses\\SIW011 - Python in GIS\\Final Project\\Data\\Images_Extent')\n",
    "\n",
    "arcpy.env.workspace = inRasterFolder\n",
    "\n",
    "## getting extent and adding 1000m\n",
    "desc = arcpy.Describe(inVector)\n",
    "extent = desc.extent\n",
    "bufferDistance = 0.0001388  ##1000m in degree units\n",
    "extentString = str(extent.XMin - bufferDistance) + ' ' + str(extent.YMin - bufferDistance) + ' ' +  \\\n",
    "                str(extent.XMax + bufferDistance) + ' ' + str(extent.YMax + bufferDistance) \n",
    "print(extentString)\n",
    "\n",
    "\n",
    "###clipping each raster\n",
    "inRasters = arcpy.ListRasters()\n",
    "for raster in inRasters:\n",
    "    rasterDesc =  arcpy.Describe(raster)\n",
    "    rasterName = rasterDesc.name\n",
    "    outRaster = os.path.join(outRasterFolder, rasterName)\n",
    "    \n",
    "    ##delete raster if exits\n",
    "    if arcpy.Exists(outRaster):\n",
    "        arcpy.Delete_management(outRaster)\n",
    "    \n",
    "    ## clip raster\n",
    "    arcpy.Clip_management (raster, extentString, outRaster, \\\n",
    "                     maintain_clipping_extent = 'NO_MAINTAIN_EXTENT')"
   ]
  },
  {
   "cell_type": "code",
   "execution_count": 42,
   "metadata": {},
   "outputs": [],
   "source": [
    "def checkBreedingTime(date):\n",
    "    for year in range(2006 , 2010):\n",
    "        breedingStartTime = datetime(year, 5, 24)\n",
    "        breedingEndTime = datetime(year, 6, 7)\n",
    "        if date > breedingStartTime and date < breedingEndTime:\n",
    "            isBreeding = 1\n",
    "            break\n",
    "        else:\n",
    "            isBreeding = 0\n",
    "    return isBreeding"
   ]
  },
  {
   "cell_type": "code",
   "execution_count": 43,
   "metadata": {},
   "outputs": [
    {
     "name": "stdout",
     "output_type": "stream",
     "text": [
      "Breeding points:  521\n",
      "Non Breeding points:  6842\n"
     ]
    }
   ],
   "source": [
    "###classifying breeding season\n",
    "if arcpy.ListFields(inVector, 'isBreed'):\n",
    "    arcpy.DeleteField_management(inVector, 'isBreed')\n",
    "arcpy.AddField_management(inVector, 'isBreed', 'SHORT')\n",
    "\n",
    "fields = ['SHAPE@XY', 'timestamp', 'isBreed']\n",
    "\n",
    "with arcpy.da.UpdateCursor(inVector,fields) as cursor:\n",
    "    for row in cursor:\n",
    "        time = datetime.strptime(row[1], '%Y-%m-%d %H:%M:%S')\n",
    "        row[2] = checkBreedingTime(time)\n",
    "        cursor.updateRow(row)\n",
    "\n",
    "inVectorArray = arcpy.da.FeatureClassToNumPyArray(inVector, ('isBreed'))\n",
    "breedingCount = (inVectorArray['isBreed'] == 1).sum()\n",
    "nonBreedingCount = (inVectorArray['isBreed'] == 0).sum()\n",
    "print('Breeding points: ', breedingCount)\n",
    "print('Non Breeding points: ', nonBreedingCount)\n"
   ]
  }
 ],
 "metadata": {
  "kernelspec": {
   "display_name": "ArcGISPro",
   "language": "Python",
   "name": "python3"
  },
  "language_info": {
   "file_extension": ".py",
   "name": "python",
   "version": "3"
  }
 },
 "nbformat": 4,
 "nbformat_minor": 2
}
