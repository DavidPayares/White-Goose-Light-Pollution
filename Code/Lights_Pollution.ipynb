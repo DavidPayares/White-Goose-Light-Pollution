{
 "cells": [
  {
   "cell_type": "code",
   "execution_count": 5,
   "metadata": {},
   "outputs": [
    {
     "name": "stdout",
     "output_type": "stream",
     "text": [
      "3.6740312 51.1431912 87.6671388 73.5753088\n"
     ]
    }
   ],
   "source": [
    "import os\n",
    "import arcpy\n",
    "import numpy as np\n",
    "from datetime import datetime\n",
    "\n",
    "inVector = os.path.join('D:\\M.Sc. Gesopatial Tecnologies\\Courses\\SIW011 - Python in GIS\\Final Project\\White-Goose-Light-Pollution\\Data\\Vector\\points.shp')\n",
    "inRasterFolder = os.path.join('D:\\M.Sc. Gesopatial Tecnologies\\Courses\\SIW011 - Python in GIS\\Final Project\\Images')\n",
    "outRasterFolder = os.path.join('D:\\M.Sc. Gesopatial Tecnologies\\Courses\\SIW011 - Python in GIS\\Final Project\\White-Goose-Light-Pollution\\Data\\Images_Extent')\n",
    "\n",
    "arcpy.env.workspace = inRasterFolder\n",
    "\n",
    "## getting extent and adding 1000m\n",
    "desc = arcpy.Describe(inVector)\n",
    "extent = desc.extent\n",
    "bufferDistance = 0.0001388  ##1000m in degree units\n",
    "extentString = str(extent.XMin - bufferDistance) + ' ' + str(extent.YMin - bufferDistance) + ' ' +  \\\n",
    "                str(extent.XMax + bufferDistance) + ' ' + str(extent.YMax + bufferDistance) \n",
    "print(extentString)\n",
    "\n",
    "\n",
    "###clipping each raster\n",
    "inRasters = arcpy.ListRasters()\n",
    "for raster in inRasters:\n",
    "    rasterDesc =  arcpy.Describe(raster)\n",
    "    rasterName = rasterDesc.name\n",
    "    outRaster = os.path.join(outRasterFolder, rasterName)\n",
    "    \n",
    "    ##delete raster if exits\n",
    "    if arcpy.Exists(outRaster):\n",
    "        arcpy.Delete_management(outRaster)\n",
    "    \n",
    "    ## clip raster\n",
    "    arcpy.Clip_management (raster, extentString, outRaster, \\\n",
    "                     maintain_clipping_extent = 'NO_MAINTAIN_EXTENT')"
   ]
  },
  {
   "cell_type": "code",
   "execution_count": 6,
   "metadata": {},
   "outputs": [],
   "source": [
    "def checkBreedingTime(date):\n",
    "    for year in range(2006 , 2010):\n",
    "        breedingStartTime = datetime(year, 5, 24)\n",
    "        breedingEndTime = datetime(year, 6, 7)\n",
    "        if date > breedingStartTime and date < breedingEndTime:\n",
    "            isBreeding = 1\n",
    "            break\n",
    "        else:\n",
    "            isBreeding = 0\n",
    "    return isBreeding"
   ]
  },
  {
   "cell_type": "code",
   "execution_count": 34,
   "metadata": {},
   "outputs": [
    {
     "ename": "ExecuteError",
     "evalue": "ERROR 002126: Unable to convert all of the values from timestamp to time.\nFailed to execute (ConvertTimeField).\n",
     "output_type": "error",
     "traceback": [
      "\u001b[0;31m---------------------------------------------------------------------------\u001b[0m\n\u001b[0;31mExecuteError\u001b[0m                              Traceback (most recent call last)",
      "In  \u001b[0;34m[34]\u001b[0m:\nLine \u001b[0;34m18\u001b[0m:    arcpy.ConvertTimeField_management(inVector, \u001b[33m'\u001b[39;49;00m\u001b[33mtimestamp\u001b[39;49;00m\u001b[33m'\u001b[39;49;00m, \u001b[33m\"\u001b[39;49;00m\u001b[33myyyyMMddHHmmss\u001b[39;49;00m\u001b[33m\"\u001b[39;49;00m, \u001b[33m'\u001b[39;49;00m\u001b[33mtime\u001b[39;49;00m\u001b[33m'\u001b[39;49;00m)\n",
      "File \u001b[0;34mc:\\program files\\arcgis\\pro\\Resources\\arcpy\\arcpy\\management.py\u001b[0m, in \u001b[0;32mConvertTimeField\u001b[0m:\nLine \u001b[0;34m4666\u001b[0m:  \u001b[34mraise\u001b[39;49;00m e\n",
      "File \u001b[0;34mc:\\program files\\arcgis\\pro\\Resources\\arcpy\\arcpy\\management.py\u001b[0m, in \u001b[0;32mConvertTimeField\u001b[0m:\nLine \u001b[0;34m4663\u001b[0m:  retval = convertArcObjectToPythonObject(gp.ConvertTimeField_management(*gp_fixargs((in_table, input_time_field, input_time_format, output_time_field, output_time_type, output_time_format), \u001b[34mTrue\u001b[39;49;00m)))\n",
      "File \u001b[0;34mc:\\program files\\arcgis\\pro\\Resources\\arcpy\\arcpy\\geoprocessing\\_base.py\u001b[0m, in \u001b[0;32m<lambda>\u001b[0m:\nLine \u001b[0;34m511\u001b[0m:   \u001b[34mreturn\u001b[39;49;00m \u001b[34mlambda\u001b[39;49;00m *args: val(*gp_fixargs(args, \u001b[34mTrue\u001b[39;49;00m))\n",
      "\u001b[0;31mExecuteError\u001b[0m: ERROR 002126: Unable to convert all of the values from timestamp to time.\nFailed to execute (ConvertTimeField).\n\n\u001b[0;31m---------------------------------------------------------------------------\u001b[0m"
     ]
    }
   ],
   "source": [
    "###classifying breeding season and adding time and date fields\n",
    "listFields = [field.name for field in arcpy.ListFields(inVector)]\n",
    "checkFields = {'isBreed':'SHORT', 'time':'DATE', 'date':'DATE'}\n",
    "for field, fieldType in checkFields.items():\n",
    "    if field in listFields:\n",
    "        arcpy.DeleteField_management(inVector, field)\n",
    "    arcpy.AddField_management(inVector, field, fieldType)\n",
    "\n",
    "fields = ['SHAPE@XY', 'timestamp', 'isBreed', 'date']\n",
    "\n",
    "with arcpy.da.UpdateCursor(inVector,fields) as cursor:\n",
    "    for row in cursor:\n",
    "        time = datetime.strptime(row[1], '%Y-%m-%d %H:%M:%S')\n",
    "        row[2] = checkBreedingTime(time)\n",
    "        row[3] = time.date()\n",
    "        cursor.updateRow(row)\n",
    "\n",
    "arcpy.ConvertTimeField_management(inVector, 'timestamp', \"yyyyMMddHHmmss\", 'time')\n",
    "\n",
    "inVectorArray = arcpy.da.FeatureClassToNumPyArray(inVector, ('isBreed'))\n",
    "breedingCount = (inVectorArray['isBreed'] == 1).sum()\n",
    "nonBreedingCount = (inVectorArray['isBreed'] == 0).sum()\n",
    "print('Breeding points: ', breedingCount)\n",
    "print('Non Breeding points: ', nonBreedingCount)"
   ]
  },
  {
   "cell_type": "code",
   "execution_count": 25,
   "metadata": {},
   "outputs": [
    {
     "data": {
      "text/plain": [
       "datetime.time(0, 0)"
      ]
     },
     "execution_count": 25,
     "metadata": {},
     "output_type": "execute_result"
    }
   ],
   "source": [
    "hola = datetime.strptime('2012-01-10 00:00:00', '%Y-%m-%d %H:%M:%S')\n",
    "hola.time()"
   ]
  }
 ],
 "metadata": {
  "kernelspec": {
   "display_name": "ArcGISPro",
   "language": "Python",
   "name": "python3"
  },
  "language_info": {
   "file_extension": ".py",
   "name": "python",
   "version": "3"
  }
 },
 "nbformat": 4,
 "nbformat_minor": 2
}
