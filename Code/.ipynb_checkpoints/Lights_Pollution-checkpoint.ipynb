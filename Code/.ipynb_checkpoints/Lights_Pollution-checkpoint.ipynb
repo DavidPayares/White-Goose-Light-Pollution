{
 "cells": [
  {
   "cell_type": "code",
   "execution_count": 1,
   "metadata": {},
   "outputs": [],
   "source": [
    "import os\n",
    "import arcpy\n",
    "\n",
    "inVector = os.path.join()\n",
    "inRasterFolder = os.path.join()\n",
    "outRasterFolder = os.path.join()\n",
    "\n",
    "arcpy.env.workspace = inRasterFolder\n",
    "\n",
    "inRasters = arcpy.ListRasters()\n",
    "\n"
   ]
  }
 ],
 "metadata": {
  "kernelspec": {
   "display_name": "ArcGISPro",
   "language": "Python",
   "name": "python3"
  },
  "language_info": {
   "file_extension": ".py",
   "name": "python",
   "version": "3"
  }
 },
 "nbformat": 4,
 "nbformat_minor": 2
}
